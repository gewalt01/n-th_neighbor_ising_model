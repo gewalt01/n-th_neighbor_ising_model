{
 "cells": [
  {
   "cell_type": "code",
   "execution_count": 1,
   "metadata": {},
   "outputs": [],
   "source": [
    "import matplotlib.pyplot as plt\n",
    "import matplotlib.animation as animation\n",
    "import numpy as np"
   ]
  },
  {
   "cell_type": "code",
   "execution_count": 2,
   "metadata": {},
   "outputs": [],
   "source": [
    "from pylab import rcParams\n",
    "rcParams['figure.figsize'] = 12,12"
   ]
  },
  {
   "cell_type": "code",
   "execution_count": 3,
   "metadata": {},
   "outputs": [],
   "source": [
    "class Ising:\n",
    "    def __init__(self, width, height, n_th = 1):\n",
    "        self.width, self.height = width, height\n",
    "        # {-1, +1}の乱数生成\n",
    "        self.spins = np.random.choice([-1,1], width * height).astype(\"int\").reshape(width, height).tolist()\n",
    "        \n",
    "        # 隣接リスト作成\n",
    "        self.adjacencyList = self._makeAdjacencyList(n_th)\n",
    "        \n",
    "        self.temperature = 1. # 温度\n",
    "        self.weight = np.random.uniform(-1, 1, n_th).tolist()  # n-th neighbor相互作用\n",
    "        \n",
    "    def _makeAdjacencyList(self, n_th):\n",
    "        '''\n",
    "        @param n_th n次近接までのノードを見る.\n",
    "        '''\n",
    "        ad_list = np.zeros(self.width * self.height).reshape(self.width, self.height)\n",
    "        \n",
    "        '''\n",
    "        TODO: 5重ループの闇\n",
    "        '''\n",
    "        for x in range(self.width):\n",
    "            for y in range(self.height):\n",
    "                ad_list[x][y] = []\n",
    "                for n in range(1, n_th + 1):\n",
    "                    for x_pad in range(-n, n + 1):\n",
    "                        for y_pad in range(-n, n + 1):\n",
    "                            \"\"\"\n",
    "                            if not n-th neighbor, continue\n",
    "                            \"\"\"\n",
    "                            if  ((np.abs(x_pad) + np.abs(y_pad)) != n):\n",
    "                                continue\n",
    "\n",
    "                            if (0 <= (x + x_pad) < self.width) and (y <= (y + y_pad) < self.height):\n",
    "                                lst = [x + x_pad, y + y_pad, n]\n",
    "                                ad_list[x][y].append(lst)                \n",
    "                \n",
    "        return ad_list\n",
    "                \n",
    "    def gibbsSampling(self, x, y):\n",
    "        c = 0\n",
    "        for l in self.adjacencyList[x][y]:\n",
    "            x, y, n = l\n",
    "            c += self.weight[n-1] * self.spins[x][y]\n",
    "        c /= self.temperature\n",
    "        return -1 if np.random.uniform() < np.exp(-c) / (2 * np.cosh(c)) else +1\n",
    "        "
   ]
  },
  {
   "cell_type": "code",
   "execution_count": 6,
   "metadata": {
    "scrolled": false
   },
   "outputs": [
    {
     "data": {
      "image/png": "[encoded data removed]",
      "text/plain": [
       "<Figure size 864x864 with 1 Axes>"
      ]
     },
     "metadata": {},
     "output_type": "display_data"
    }
   ],
   "source": [
    "a = Ising(30, 30, n_th = 8)\n",
    "a.weight= np.random.uniform(-1, 1, 8).tolist() # 相互作用\n",
    "a.temperature = 8\n",
    "\n",
    "fig = plt.figure()\n",
    "ims = []\n",
    "\n",
    "for i in range(50):\n",
    "    for j in range(30):\n",
    "        x, y = np.random.randint(0, a.width), np.random.randint(0, a.height)\n",
    "        a.spins[x][y] = a.gibbsSampling(x, y)\n",
    "        a.temperature *= 0.99998\n",
    "    im = plt.imshow(a.spins, animated=True)\n",
    "    ims.append([im])\n",
    "    \n",
    "for i in range(250):\n",
    "    for j in range(30):\n",
    "        x, y = np.random.randint(0, a.width), np.random.randint(0, a.height)\n",
    "        a.spins[x][y] = a.gibbsSampling(x, y)\n",
    "    im = plt.imshow(a.spins, animated=True)\n",
    "    ims.append([im])\n",
    "\n",
    "\n",
    "ani = animation.ArtistAnimation(fig, ims, interval=20, blit=True)\n",
    "ani.save('anim.mp4', writer=\"ffmpeg\")"
   ]
  },
  {
   "cell_type": "code",
   "execution_count": null,
   "metadata": {},
   "outputs": [],
   "source": []
  }
 ],
 "metadata": {
  "kernelspec": {
   "display_name": "Python 3",
   "language": "python",
   "name": "python3"
  },
  "language_info": {
   "codemirror_mode": {
    "name": "ipython",
    "version": 3
   },
   "file_extension": ".py",
   "mimetype": "text/x-python",
   "name": "python",
   "nbconvert_exporter": "python",
   "pygments_lexer": "ipython3",
   "version": "3.6.5"
  }
 },
 "nbformat": 4,
 "nbformat_minor": 2
}
